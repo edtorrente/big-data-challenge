{
  "nbformat": 4,
  "nbformat_minor": 0,
  "metadata": {
    "colab": {
      "name": "Untitled14.ipynb",
      "provenance": [],
      "collapsed_sections": [],
      "authorship_tag": "ABX9TyOz8HkTYS02punmRXSkKL1d",
      "include_colab_link": true
    },
    "kernelspec": {
      "name": "python3",
      "display_name": "Python 3"
    },
    "language_info": {
      "name": "python"
    }
  },
  "cells": [
    {
      "cell_type": "markdown",
      "metadata": {
        "id": "view-in-github",
        "colab_type": "text"
      },
      "source": [
        "<a href=\"https://colab.research.google.com/github/edtorrente/big-data-challenge/blob/main/level2.ipynb\" target=\"_parent\"><img src=\"https://colab.research.google.com/assets/colab-badge.svg\" alt=\"Open In Colab\"/></a>"
      ]
    },
    {
      "cell_type": "code",
      "execution_count": 1,
      "metadata": {
        "colab": {
          "base_uri": "https://localhost:8080/"
        },
        "id": "845czbLNdHuv",
        "outputId": "7777f39d-2bfb-4d47-e4a5-e97c9d216a29"
      },
      "outputs": [
        {
          "output_type": "stream",
          "name": "stdout",
          "text": [
            "\r0% [Working]\r            \rGet:1 https://cloud.r-project.org/bin/linux/ubuntu bionic-cran40/ InRelease [3,626 B]\n",
            "\r0% [Connecting to archive.ubuntu.com (91.189.88.152)] [Connecting to security.u\r0% [Connecting to archive.ubuntu.com (91.189.88.152)] [Connecting to security.u\r0% [1 InRelease gpgv 3,626 B] [Connecting to archive.ubuntu.com (91.189.88.152)\r                                                                               \rIgn:2 https://developer.download.nvidia.com/compute/cuda/repos/ubuntu1804/x86_64  InRelease\n",
            "\r0% [1 InRelease gpgv 3,626 B] [Waiting for headers] [Waiting for headers] [Wait\r                                                                               \rGet:3 http://security.ubuntu.com/ubuntu bionic-security InRelease [88.7 kB]\n",
            "\r                                                                               \rGet:4 http://ppa.launchpad.net/c2d4u.team/c2d4u4.0+/ubuntu bionic InRelease [15.9 kB]\n",
            "Hit:5 http://archive.ubuntu.com/ubuntu bionic InRelease\n",
            "Ign:6 https://developer.download.nvidia.com/compute/machine-learning/repos/ubuntu1804/x86_64  InRelease\n",
            "Get:7 http://archive.ubuntu.com/ubuntu bionic-updates InRelease [88.7 kB]\n",
            "Get:8 https://developer.download.nvidia.com/compute/cuda/repos/ubuntu1804/x86_64  Release [696 B]\n",
            "Hit:9 https://developer.download.nvidia.com/compute/machine-learning/repos/ubuntu1804/x86_64  Release\n",
            "Get:10 https://developer.download.nvidia.com/compute/cuda/repos/ubuntu1804/x86_64  Release.gpg [836 B]\n",
            "Hit:11 http://ppa.launchpad.net/cran/libgit2/ubuntu bionic InRelease\n",
            "Get:12 http://archive.ubuntu.com/ubuntu bionic-backports InRelease [74.6 kB]\n",
            "Hit:13 http://ppa.launchpad.net/deadsnakes/ppa/ubuntu bionic InRelease\n",
            "Get:14 http://ppa.launchpad.net/graphics-drivers/ppa/ubuntu bionic InRelease [21.3 kB]\n",
            "Get:15 http://ppa.launchpad.net/c2d4u.team/c2d4u4.0+/ubuntu bionic/main Sources [1,827 kB]\n",
            "Get:17 http://ppa.launchpad.net/c2d4u.team/c2d4u4.0+/ubuntu bionic/main amd64 Packages [937 kB]\n",
            "Get:18 https://developer.download.nvidia.com/compute/cuda/repos/ubuntu1804/x86_64  Packages [930 kB]\n",
            "Get:19 http://security.ubuntu.com/ubuntu bionic-security/main amd64 Packages [2,596 kB]\n",
            "Get:20 http://security.ubuntu.com/ubuntu bionic-security/restricted amd64 Packages [806 kB]\n",
            "Get:21 http://security.ubuntu.com/ubuntu bionic-security/universe amd64 Packages [1,474 kB]\n",
            "Get:22 http://archive.ubuntu.com/ubuntu bionic-updates/main amd64 Packages [3,035 kB]\n",
            "Get:23 http://ppa.launchpad.net/graphics-drivers/ppa/ubuntu bionic/main amd64 Packages [42.8 kB]\n",
            "Get:24 http://archive.ubuntu.com/ubuntu bionic-updates/universe amd64 Packages [2,252 kB]\n",
            "Get:25 http://archive.ubuntu.com/ubuntu bionic-updates/restricted amd64 Packages [840 kB]\n",
            "Fetched 15.0 MB in 7s (2,185 kB/s)\n",
            "Reading package lists... Done\n"
          ]
        }
      ],
      "source": [
        "import os\n",
        "# Find the latest version of spark 3.0  from http://www.apache.org/dist/spark/ and enter as the spark version\n",
        "# For example:\n",
        "# spark_version = 'spark-3.0.3'\n",
        "spark_version = 'spark-3.2.1'\n",
        "os.environ['SPARK_VERSION']=spark_version\n",
        "\n",
        "# Install Spark and Java\n",
        "!apt-get update\n",
        "!apt-get install openjdk-8-jdk-headless -qq > /dev/null\n",
        "!wget -q http://www.apache.org/dist/spark/$SPARK_VERSION/$SPARK_VERSION-bin-hadoop2.7.tgz\n",
        "!tar xf $SPARK_VERSION-bin-hadoop2.7.tgz\n",
        "!pip install -q findspark\n",
        "\n",
        "# Set Environment Variables\n",
        "os.environ[\"JAVA_HOME\"] = \"/usr/lib/jvm/java-8-openjdk-amd64\"\n",
        "os.environ[\"SPARK_HOME\"] = f\"/content/{spark_version}-bin-hadoop2.7\"\n",
        "\n",
        "# Start a SparkSession\n",
        "import findspark\n",
        "findspark.init()"
      ]
    },
    {
      "cell_type": "code",
      "source": [
        "!wget https://jdbc.postgresql.org/download/postgresql-42.2.9.jar"
      ],
      "metadata": {
        "colab": {
          "base_uri": "https://localhost:8080/"
        },
        "id": "S145IpMxdOl9",
        "outputId": "d1062356-ba69-4716-d717-fd33dbe6dd16"
      },
      "execution_count": 2,
      "outputs": [
        {
          "output_type": "stream",
          "name": "stdout",
          "text": [
            "--2022-02-25 19:57:19--  https://jdbc.postgresql.org/download/postgresql-42.2.9.jar\n",
            "Resolving jdbc.postgresql.org (jdbc.postgresql.org)... 72.32.157.228, 2001:4800:3e1:1::228\n",
            "Connecting to jdbc.postgresql.org (jdbc.postgresql.org)|72.32.157.228|:443... connected.\n",
            "HTTP request sent, awaiting response... 200 OK\n",
            "Length: 914037 (893K) [application/java-archive]\n",
            "Saving to: ‘postgresql-42.2.9.jar’\n",
            "\n",
            "postgresql-42.2.9.j 100%[===================>] 892.61K  5.23MB/s    in 0.2s    \n",
            "\n",
            "2022-02-25 19:57:19 (5.23 MB/s) - ‘postgresql-42.2.9.jar’ saved [914037/914037]\n",
            "\n"
          ]
        }
      ]
    },
    {
      "cell_type": "code",
      "source": [
        "from pyspark.sql import SparkSession\n",
        "spark = SparkSession.builder.appName(\"Video\").config(\"spark.driver.extraClassPath\",\"/content/postgresql-42.2.9.jar\").getOrCreate()"
      ],
      "metadata": {
        "id": "n2VqJi_JdSLe"
      },
      "execution_count": 3,
      "outputs": []
    },
    {
      "cell_type": "code",
      "source": [
        "from pyspark import SparkFiles\n",
        "# Load in employee.csv from S3 into a DataFrame\n",
        "url = \"https://s3.amazonaws.com/amazon-reviews-pds/tsv/amazon_reviews_us_Video_v1_00.tsv.gz\"\n",
        "spark.sparkContext.addFile(url)\n",
        "\n",
        "video_df = spark.read.csv(SparkFiles.get(\"amazon_reviews_us_Video_v1_00.tsv.gz\"), inferSchema=True, sep='\\t', header=True)\n",
        "video_df.show(10)"
      ],
      "metadata": {
        "colab": {
          "base_uri": "https://localhost:8080/"
        },
        "id": "AQt7CbGfdZ9S",
        "outputId": "facea5c1-755d-4b9c-a5c9-e6d78290e205"
      },
      "execution_count": 4,
      "outputs": [
        {
          "output_type": "stream",
          "name": "stdout",
          "text": [
            "+-----------+-----------+--------------+----------+--------------+--------------------+----------------+-----------+-------------+-----------+----+-----------------+--------------------+--------------------+-----------+\n",
            "|marketplace|customer_id|     review_id|product_id|product_parent|       product_title|product_category|star_rating|helpful_votes|total_votes|vine|verified_purchase|     review_headline|         review_body|review_date|\n",
            "+-----------+-----------+--------------+----------+--------------+--------------------+----------------+-----------+-------------+-----------+----+-----------------+--------------------+--------------------+-----------+\n",
            "|         US|   49033728|R1P1G5KZ05H6RD|6302503213|     748506413|The Night They Sa...|           Video|          5|            0|          0|   N|                Y|    Very satisfied!!|Fast shipping. Pl...| 2015-08-31|\n",
            "|         US|   17857748|R106N066IUN8ZV|B000059PET|     478710180|Hamlet / Kline, N...|           Video|          5|            0|          0|   N|                Y|The most talented...|Kevin Kline is th...| 2015-08-31|\n",
            "|         US|   25551507| R7WTAA1S5O7D9|0788812807|     981002815|Nascar Dual Power...|           Video|          4|            0|          0|   N|                Y|          Four Stars|         great movie| 2015-08-31|\n",
            "|         US|   21025041|R32HFMVWLYOYJK|6302509939|     333219811|The Man From U.N....|           Video|          5|            0|          0|   N|                Y|          Five Stars|i love the martin...| 2015-08-31|\n",
            "|         US|   40943563| RWT3H6HBVAL6G|B00JENS2BI|     538101194|Playboy Video Par...|           Video|          3|            0|          0|   N|                N|HOT women, dumb j...|Y'know what this ...| 2015-08-31|\n",
            "|         US|   17013969|R1S3T3GWUGQTW7|6305761302|     716303278|Cabaret Balkan - ...|           Video|          5|            0|          0|   N|                Y|          Five Stars|Wonderfully accur...| 2015-08-31|\n",
            "|         US|   47611685|R3R0QYHA800REE|6300157555|     134996462|Wrinkles:in Need ...|           Video|          4|            0|          0|   N|                Y|          Four Stars|In great shape fo...| 2015-08-31|\n",
            "|         US|   35680737|R1FR0EQPHPW5NM|6300189570|     498116870|Ladies Club,the [...|           Video|          4|            1|          2|   N|                N|          Four Stars|When are they goi...| 2015-08-31|\n",
            "|         US|   10747909| RGORN81H45NI7|B000SXQ5US|      77519275|The Campitelli Ad...|           Video|          5|            1|          1|   N|                Y|I was thrilled to...|This is the best ...| 2015-08-31|\n",
            "|         US|     126341|R1CNYN4ABNOJSU|B00008F22G|     917778300|Return of the Jed...|           Video|          5|            0|          0|   N|                Y|          Five Stars|I'm very pleased ...| 2015-08-31|\n",
            "+-----------+-----------+--------------+----------+--------------+--------------------+----------------+-----------+-------------+-----------+----+-----------------+--------------------+--------------------+-----------+\n",
            "only showing top 10 rows\n",
            "\n"
          ]
        }
      ]
    },
    {
      "cell_type": "code",
      "source": [
        "video_df.printSchema()"
      ],
      "metadata": {
        "colab": {
          "base_uri": "https://localhost:8080/"
        },
        "id": "eURZX7QGd82K",
        "outputId": "d6c0d28a-28ab-4475-b647-a2de2f879121"
      },
      "execution_count": 5,
      "outputs": [
        {
          "output_type": "stream",
          "name": "stdout",
          "text": [
            "root\n",
            " |-- marketplace: string (nullable = true)\n",
            " |-- customer_id: integer (nullable = true)\n",
            " |-- review_id: string (nullable = true)\n",
            " |-- product_id: string (nullable = true)\n",
            " |-- product_parent: integer (nullable = true)\n",
            " |-- product_title: string (nullable = true)\n",
            " |-- product_category: string (nullable = true)\n",
            " |-- star_rating: integer (nullable = true)\n",
            " |-- helpful_votes: integer (nullable = true)\n",
            " |-- total_votes: integer (nullable = true)\n",
            " |-- vine: string (nullable = true)\n",
            " |-- verified_purchase: string (nullable = true)\n",
            " |-- review_headline: string (nullable = true)\n",
            " |-- review_body: string (nullable = true)\n",
            " |-- review_date: string (nullable = true)\n",
            "\n"
          ]
        }
      ]
    },
    {
      "cell_type": "markdown",
      "source": [
        "##filter by votes"
      ],
      "metadata": {
        "id": "-K4D2Y28dvYH"
      }
    },
    {
      "cell_type": "code",
      "source": [
        "\n",
        "\n",
        "df2= video_df.select([\"helpful_votes\", \"star_rating\", \"total_votes\", \"vine\", \"verified_purchase\"])\n",
        "\n",
        "df2.show()"
      ],
      "metadata": {
        "colab": {
          "base_uri": "https://localhost:8080/"
        },
        "id": "en1sN1QQdxFy",
        "outputId": "a9e168a0-54ef-43a5-e1d3-eee6c683ae78"
      },
      "execution_count": 8,
      "outputs": [
        {
          "output_type": "stream",
          "name": "stdout",
          "text": [
            "+-------------+-----------+-----------+----+-----------------+\n",
            "|helpful_votes|star_rating|total_votes|vine|verified_purchase|\n",
            "+-------------+-----------+-----------+----+-----------------+\n",
            "|            0|          5|          0|   N|                Y|\n",
            "|            0|          5|          0|   N|                Y|\n",
            "|            0|          4|          0|   N|                Y|\n",
            "|            0|          5|          0|   N|                Y|\n",
            "|            0|          3|          0|   N|                N|\n",
            "|            0|          5|          0|   N|                Y|\n",
            "|            0|          4|          0|   N|                Y|\n",
            "|            1|          4|          2|   N|                N|\n",
            "|            1|          5|          1|   N|                Y|\n",
            "|            0|          5|          0|   N|                Y|\n",
            "|            0|          3|          0|   N|                Y|\n",
            "|            0|          5|          0|   N|                Y|\n",
            "|            0|          5|          0|   N|                N|\n",
            "|            1|          5|          2|   N|                Y|\n",
            "|            0|          2|          4|   N|                Y|\n",
            "|            0|          5|          0|   N|                Y|\n",
            "|            0|          2|          2|   N|                Y|\n",
            "|            0|          1|          0|   N|                Y|\n",
            "|            0|          5|          0|   N|                Y|\n",
            "|            1|          5|          1|   N|                Y|\n",
            "+-------------+-----------+-----------+----+-----------------+\n",
            "only showing top 20 rows\n",
            "\n"
          ]
        }
      ]
    },
    {
      "cell_type": "code",
      "source": [
        "df3=df2.filter(df2[\"total_votes\"] >= 20)\n",
        "df4=df3.filter(df3[\"helpful_votes\"]/df3[\"total_votes\"] >=0.5)\n",
        "df4.show()"
      ],
      "metadata": {
        "colab": {
          "base_uri": "https://localhost:8080/"
        },
        "id": "tOn6fxWLee3k",
        "outputId": "4549be6c-44f7-43fe-f646-96a42537fb7c"
      },
      "execution_count": 10,
      "outputs": [
        {
          "output_type": "stream",
          "name": "stdout",
          "text": [
            "+-------------+-----------+-----------+----+-----------------+\n",
            "|helpful_votes|star_rating|total_votes|vine|verified_purchase|\n",
            "+-------------+-----------+-----------+----+-----------------+\n",
            "|           30|          5|         31|   N|                N|\n",
            "|           29|          5|         31|   N|                N|\n",
            "|           21|          5|         24|   N|                N|\n",
            "|           17|          4|         20|   N|                N|\n",
            "|           22|          5|         23|   N|                N|\n",
            "|           30|          4|         32|   N|                N|\n",
            "|           20|          5|         20|   N|                N|\n",
            "|           28|          5|         31|   N|                Y|\n",
            "|           21|          5|         24|   N|                N|\n",
            "|           19|          4|         25|   N|                N|\n",
            "|           44|          1|         47|   N|                N|\n",
            "|           27|          5|         28|   N|                Y|\n",
            "|           32|          5|         32|   N|                N|\n",
            "|           30|          5|         33|   N|                Y|\n",
            "|           79|          5|         81|   N|                Y|\n",
            "|           18|          5|         20|   N|                Y|\n",
            "|           13|          2|         20|   N|                N|\n",
            "|           42|          5|         43|   N|                Y|\n",
            "|           17|          2|         21|   N|                Y|\n",
            "|           24|          3|         26|   N|                Y|\n",
            "+-------------+-----------+-----------+----+-----------------+\n",
            "only showing top 20 rows\n",
            "\n"
          ]
        }
      ]
    },
    {
      "cell_type": "markdown",
      "source": [
        "describe stats"
      ],
      "metadata": {
        "id": "lCfpbpyui2j6"
      }
    },
    {
      "cell_type": "code",
      "source": [
        "from pyspark.sql.functions import col, avg\n",
        "\n",
        "paid_df=df4.filter(df4['vine']=='Y')\n",
        "unpaid_df=df4.filter(df4['vine']=='N')\n",
        "\n",
        "paid_df.describe().show()\n",
        "unpaid_df.describe().show()"
      ],
      "metadata": {
        "colab": {
          "base_uri": "https://localhost:8080/"
        },
        "id": "hk3pl9Zge7Ll",
        "outputId": "522fda3a-6356-437d-815d-65ac07f5fd50"
      },
      "execution_count": 11,
      "outputs": [
        {
          "output_type": "stream",
          "name": "stdout",
          "text": [
            "+-------+-------------+-----------+-----------+----+-----------------+\n",
            "|summary|helpful_votes|star_rating|total_votes|vine|verified_purchase|\n",
            "+-------+-------------+-----------+-----------+----+-----------------+\n",
            "|  count|            0|          0|          0|   0|                0|\n",
            "|   mean|         null|       null|       null|null|             null|\n",
            "| stddev|         null|       null|       null|null|             null|\n",
            "|    min|         null|       null|       null|null|             null|\n",
            "|    max|         null|       null|       null|null|             null|\n",
            "+-------+-------------+-----------+-----------+----+-----------------+\n",
            "\n",
            "+-------+------------------+------------------+------------------+-----+-----------------+\n",
            "|summary|     helpful_votes|       star_rating|       total_votes| vine|verified_purchase|\n",
            "+-------+------------------+------------------+------------------+-----+-----------------+\n",
            "|  count|             20201|             20201|             20201|20201|            20201|\n",
            "|   mean| 39.68724320578189|4.2375129944062175|43.629523290926194| null|             null|\n",
            "| stddev|41.219448934022154|1.2028516581551854| 43.06539889281753| null|             null|\n",
            "|    min|                10|                 1|                20|    N|                N|\n",
            "|    max|               894|                 5|               956|    N|                Y|\n",
            "+-------+------------------+------------------+------------------+-----+-----------------+\n",
            "\n"
          ]
        }
      ]
    },
    {
      "cell_type": "markdown",
      "source": [
        "the summary table for vine users that rated products at 5 stars is none."
      ],
      "metadata": {
        "id": "ALLvWHtMm1n-"
      }
    },
    {
      "cell_type": "markdown",
      "source": [
        "determine five star ratings from vine users\n",
        "\n"
      ],
      "metadata": {
        "id": "3OC7n9uUid7n"
      }
    },
    {
      "cell_type": "code",
      "source": [
        "paid_vine_five=paid_df[paid_df[\"star_rating\"]==5].count()\n",
        "paid_count=paid_df.count()\n",
        "#percent_non_vine_five=float(paid_vine_five)/float(paid_count)\n",
        "\n",
        "print(paid_vine_five)\n",
        "print(paid_count)\n",
        "#print(percent_non_vine_five)"
      ],
      "metadata": {
        "colab": {
          "base_uri": "https://localhost:8080/"
        },
        "id": "_0XEiyOpliFj",
        "outputId": "15cdb82f-a5a0-443a-d8d0-2ddac0e7b026"
      },
      "execution_count": 19,
      "outputs": [
        {
          "output_type": "stream",
          "name": "stdout",
          "text": [
            "0\n",
            "0\n"
          ]
        }
      ]
    },
    {
      "cell_type": "markdown",
      "source": [
        "determine non vine users five star ratings"
      ],
      "metadata": {
        "id": "5HoEsvnClcYI"
      }
    },
    {
      "cell_type": "code",
      "source": [
        "unpaid_vine_five=unpaid_df[unpaid_df[\"star_rating\"]==5].count()\n",
        "unpaid_count=unpaid_df.count()\n",
        "percent_vine_five=float(unpaid_vine_five)/float(unpaid_count)\n",
        "\n",
        "print(unpaid_count)\n",
        "print(unpaid_vine_five)\n",
        "print(percent_vine_five)"
      ],
      "metadata": {
        "colab": {
          "base_uri": "https://localhost:8080/"
        },
        "id": "5w3oTqCKhV2W",
        "outputId": "b6e09fd6-a325-4655-a44b-42b8d73048a5"
      },
      "execution_count": 17,
      "outputs": [
        {
          "output_type": "stream",
          "name": "stdout",
          "text": [
            "20201\n",
            "12331\n",
            "0.6104153259739616\n"
          ]
        }
      ]
    }
  ]
}